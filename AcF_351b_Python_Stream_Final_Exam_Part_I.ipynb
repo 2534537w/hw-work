{
 "cells": [
  {
   "cell_type": "markdown",
   "metadata": {},
   "source": [
    "This is the first part of the final exam for AcF 351b: Python Stream.   \n",
    "\n",
    "Students are expected to act according to the highest ethical standards. All students enrolled at Lancaster University are to perform their academic work according to standards set by faculty members, departments, schools and colleges of the university; and cheating and plagiarism constitute fraudulent misrepresentation for which appropriate sanctions are warranted and will be applied. Please note that any form of violation of the following rules will be treated as plagiarism\n",
    "\n",
    "1. Answer the questions yourself without asking others for assistance. This is a test of your ability of data science and computer programming. \n",
    "2. Do not share the questions or your answers with anyone. This includes posting the questions or your solutions publicly on services like quora, stackoverflow, or github.\n",
    "\n",
    "**We will run a system to detect any kind of plagiarism, e.g., coding scripts with high similarities.**\n",
    "\n"
   ]
  },
  {
   "cell_type": "markdown",
   "metadata": {},
   "source": [
    "**Do NOT erase the `#export` at the top of any cells as it is used by `notebook2script.py` to extract cells for submission.**"
   ]
  },
  {
   "cell_type": "markdown",
   "metadata": {},
   "source": [
    "# Import modules. \n",
    "## Do NOT change the following cell!"
   ]
  },
  {
   "cell_type": "code",
   "execution_count": 1,
   "metadata": {},
   "outputs": [],
   "source": [
    "#export\n",
    "import pandas as pd\n",
    "import numpy as np\n",
    "import matplotlib.pyplot as plt"
   ]
  },
  {
   "cell_type": "markdown",
   "metadata": {},
   "source": [
    "## If you need extra modules, use the following cell to import them."
   ]
  },
  {
   "cell_type": "code",
   "execution_count": 34,
   "metadata": {},
   "outputs": [],
   "source": [
    "#export\n",
    "# imported extra moduels:\n",
    "import csv\n",
    "import time\n",
    "from datetime import datetime\n",
    "import itertools"
   ]
  },
  {
   "cell_type": "markdown",
   "metadata": {},
   "source": [
    "# Section 1: Basic Data Science\n",
    "\n",
    "In this section, you will be asked to answer questions regarding WiFi hotspot locations in NYC.  \n",
    "Please make sure that the dataset entitled _\"NYC_Wi-Fi_Hotspot_Locations.csv\"_ is in the same folder as the Jupyter Notebook.   \n",
    "Each row in the data represents one reported WiFi hotspot.  \n",
    "A data dictionary is also provided. \n",
    "\n"
   ]
  },
  {
   "cell_type": "markdown",
   "metadata": {},
   "source": [
    "The following script reads the csv file into the memory, and stores it into a dataframe called _df_. Do not change it"
   ]
  },
  {
   "cell_type": "code",
   "execution_count": 3,
   "metadata": {},
   "outputs": [],
   "source": [
    "#export\n",
    "# if connected to the internet, import the dataset from the internet address\n",
    "try:\n",
    "    df = pd.read_csv(\"https://frankxu1987.weebly.com/uploads/6/2/5/8/62583677/nyc_wi-fi_hotspot_locations.csv\")\n",
    "# otherwise, import the dataset from the local .csv file\n",
    "except:\n",
    "    df = pd.read_csv(\"NYC_Wi-Fi_Hotspot_Locations.csv\")\n",
    "    print(\"load local data\")\n",
    "    \n",
    "print(df)"
   ]
  },
  {
   "cell_type": "markdown",
   "metadata": {},
   "source": [
    "### Please answer the following 8 questions. For each question,\n",
    "1. Please write down the script used to compute your response in the ***Code*** Cell; Conclude your scripts with a final ***print()*** function to print out final numeric answers. **Important: Make sure your scripts are executable !!!**\n",
    "2. Please fill out the final numeric answers in the cells at the end of the section. See below."
   ]
  },
  {
   "cell_type": "markdown",
   "metadata": {},
   "source": [
    "#### Question 1.1: How many unique providers are there? (10 pts)\n"
   ]
  },
  {
   "cell_type": "code",
   "execution_count": 5,
   "metadata": {},
   "outputs": [
    {
     "name": "stdout",
     "output_type": "stream",
     "text": [
      "17\n",
      "\n"
     ]
    }
   ],
   "source": [
    "#export\n",
    "# Code script for Q 1.1\n",
    "# Write your code script below\n",
    "p = df[\"Provider\"]\n",
    "print(len(set(p)))\n",
    "print()"
   ]
  },
  {
   "cell_type": "markdown",
   "metadata": {},
   "source": [
    "#### Question 1.2: What fraction of WiFi hotspots are in parks? For simplicity, you can consider a park a place where the name of the location where the WiFi is located contains the word \"park\".? (10 pts)\n"
   ]
  },
  {
   "cell_type": "code",
   "execution_count": 7,
   "metadata": {},
   "outputs": [
    {
     "name": "stdout",
     "output_type": "stream",
     "text": [
      "3253\n",
      "3319\n",
      "0.9801144923169629\n",
      "\n"
     ]
    }
   ],
   "source": [
    "#export\n",
    "# Code script for Q 1.2\n",
    "# Write your code script below \n",
    "p = 0\n",
    "for i in df[\"Location\"]:\n",
    "    if i.find(\"Park\"):  # 字符串查找\n",
    "        p += 1\n",
    "print(p)\n",
    "print(len(df[\"Location\"]))\n",
    "print(p/len(df[\"Location\"])) # 算百分比\n",
    "print()"
   ]
  },
  {
   "cell_type": "markdown",
   "metadata": {},
   "source": [
    "#### Question 1.3: How are WiFi hotspots distributed across neighborhoods? For this question, calculate the number of WiFi hotspots per capita for each Neighborhood Tabulation Area (NTA). Exclude NTAs with less than 30 reported WiFi hotspots. Report the [interquartile range](https://en.wikipedia.org/wiki/Interquartile_range) of the averages. \n",
    "\n",
    "**For population data for each NTA, use this [dataset](https://data.cityofnewyork.us/api/views/rnsn-acs2/rows.csv); information on the dataset is found [here](https://data.cityofnewyork.us/City-Government/Census-Demographics-at-the-Neighborhood-Tabulation/rnsn-acs2). Use the population data for the column corresponding to 2010. (10 pts)** \n"
   ]
  },
  {
   "cell_type": "code",
   "execution_count": 21,
   "metadata": {},
   "outputs": [
    {
     "name": "stdout",
     "output_type": "stream",
     "text": [
      "60.43333333333333\n"
     ]
    }
   ],
   "source": [
    "#export\n",
    "# Code script for Q 1.3\n",
    "# Hint: you probably find the following line useful ***\n",
    "df_nta= pd.read_csv(\"https://data.cityofnewyork.us/api/views/rnsn-acs2/rows.csv\")\n",
    "# Write your code script below \n",
    "\n",
    "mapping = {}\n",
    "\n",
    "for nta in df_nta[\"Geographic Area - Neighborhood Tabulation Area (NTA)* Name\"]:\n",
    "    mapping[nta] = 0\n",
    "\n",
    "NTA = df[\"Neighborhood Tabulation Area (NTA)\"]\n",
    "\n",
    "for i in NTA:\n",
    "    if i in mapping:\n",
    "        mapping[i] += 1\n",
    "        \n",
    "res = {k: v for k, v in mapping.items() if v > 30}\n",
    "\n",
    "print(sum(res.values()) / len(res))"
   ]
  },
  {
   "cell_type": "markdown",
   "metadata": {},
   "source": [
    "**Question 1.4: The dataset contains information on the date the hotspot was activated. What fraction of all activations occurred on the day of week that had the most activations? In other words, if Monday had the most activations, what fraction of activations occurred on Monday? Note: there are some dates that don't make sense. Ignore them for the analysis. (10 pts)**  \n"
   ]
  },
  {
   "cell_type": "code",
   "execution_count": 50,
   "metadata": {},
   "outputs": [
    {
     "name": "stdout",
     "output_type": "stream",
     "text": [
      "0.24368825466520308\n",
      "\n"
     ]
    }
   ],
   "source": [
    "#export\n",
    "# Code script for Q 1.4\n",
    "# Write your code script below \n",
    "\n",
    "today_str = datetime.now().strftime(\"%m/%d/%Y\")\n",
    "today = time.strptime(today_str, \"%m/%d/%Y\")\n",
    "datelist = [0] * 7\n",
    "\n",
    "for date_str in dates:\n",
    "    date = time.strptime(date_str, \"%m/%d/%Y\")\n",
    "    if date > today:\n",
    "        continue\n",
    "\n",
    "    week = datetime.strptime(date_str, \"%m/%d/%Y\").weekday()\n",
    "    datelist[week] += 1\n",
    "\n",
    "print(max(datelist) / sum(datelist))\n",
    "print()"
   ]
  },
  {
   "cell_type": "markdown",
   "metadata": {},
   "source": [
    "#### Question 1.5: How many WiFi hotspots are there by the second most common provider in the Bronx? (10 pts) \n"
   ]
  },
  {
   "cell_type": "code",
   "execution_count": 9,
   "metadata": {},
   "outputs": [
    {
     "name": "stdout",
     "output_type": "stream",
     "text": [
      "120\n",
      "\n"
     ]
    }
   ],
   "source": [
    "#export\n",
    "# Code script for Q 1.5\n",
    "# Write your code script below \n",
    "\n",
    "citys = df[\"City\"]\n",
    "provider = df[\"Provider\"]\n",
    "cp_dict = {}\n",
    "\n",
    "for c, p in zip(citys, provider):\n",
    "    if c == \"Bronx\":\n",
    "        if p in cp_dict:\n",
    "            cp_dict[p] += 1\n",
    "        else:\n",
    "            cp_dict[p] = 1\n",
    "\n",
    "cp_dict = sorted(cp_dict.items(), key=lambda x: x[1], reverse=True)\n",
    "if len(cp_dict) >= 2:\n",
    "    print(cp_dict[1][1])\n",
    "    print()"
   ]
  },
  {
   "cell_type": "markdown",
   "metadata": {},
   "source": [
    "#### Question 1.6: What is the probability that a WiFi hotspot is free (without any limitations) given that it's not in a library? For this question, pull the location data based on the \"Location_T\" field.  (10 pts)\n",
    " "
   ]
  },
  {
   "cell_type": "code",
   "execution_count": 10,
   "metadata": {},
   "outputs": [
    {
     "name": "stdout",
     "output_type": "stream",
     "text": [
      "0.8122383252818035\n",
      "\n"
     ]
    }
   ],
   "source": [
    "# 1. 去除lib的所有个数，求free / sum(去除lib的所有个数)\n",
    "\n",
    "#export\n",
    "# Code script for Q 1.6\n",
    "# Write your code script below \n",
    "Type = df[\"Type\"]\n",
    "Location_T = df[\"Location_T\"]\n",
    "s, f = 0, 0\n",
    "for L, T in zip(Location_T, Type):\n",
    "    if L == \"Library\":\n",
    "        continue\n",
    "    s += 1\n",
    "    if T == \"Free\":\n",
    "        f += 1\n",
    "        \n",
    "print(f/s)\n",
    "print()"
   ]
  },
  {
   "cell_type": "markdown",
   "metadata": {},
   "source": [
    "#### Question 1.7: How far must one travel from one hotspot to another? For this question, report the median distance, in feet, of the average distance between each hotspot to the nearest 3 hotspots. For your distance calculation, calculate the distance [\"as the crow flies\"](https://en.wikipedia.org/wiki/As_the_crow_flies). For simplicity, please use the [spherical Earth projected to a plane equation](https://en.wikipedia.org/wiki/Geographical_distance#Spherical_Earth_projected_to_a_plane) for calculating distances. Use the radius of the Earth as 6371 km.  (10 pts)\n",
    "**Remember, report your answer in feet.**  \n"
   ]
  },
  {
   "cell_type": "code",
   "execution_count": null,
   "metadata": {},
   "outputs": [],
   "source": [
    "#export\n",
    "# Code script for Q 1.7\n",
    "# Write your code script below \n",
    "\n",
    "# 记录中位数和平均数\n"
   ]
  },
  {
   "cell_type": "markdown",
   "metadata": {},
   "source": [
    "#### Question 1.8: If you plot the number of hotspot activations for each month, you'll notice a general increase but then a precipitous drop after June 2018. Using a linear estimate for the number of monthly activations, what is rate of increase in monthly activations? Only consider data before July 1, 2018 and set the start date as the earliest date of the data. If you need to, use 30.5 days in a month.  (10 pts)\n"
   ]
  },
  {
   "cell_type": "code",
   "execution_count": null,
   "metadata": {},
   "outputs": [],
   "source": [
    "#export\n",
    "# Code script for Q 1.8\n",
    "# Write your code script below \n",
    "\n",
    "month_dict = {}\n",
    "dead_line = time.strptime(\"2018-07\", \"%Y-%m\")\n",
    "dates = df[\"Activated\"]\n",
    "for date in dates:\n",
    "    month, day, year = date.split(\"/\")\n",
    "    curr_date_str = year + \"-\" + month\n",
    "    curr_date = time.strptime(curr_date_str, \"%Y-%m\")\n",
    "    if curr_date < dead_line:\n",
    "        if curr_date_str in month_dict:\n",
    "            month_dict[curr_date_str] += 1\n",
    "        else:\n",
    "            month_dict[curr_date_str] = 1\n",
    "    \n",
    "    sorted_month_dict = sorted(month_dict.items(), key=lambda d: d[0])\n",
    "    print(sorted_month_dict)\n",
    "    size = len(sorted_month_dict)\n",
    "    for i in range(0, size-1):\n",
    "        last_month, last_times = sorted_month_dict[i]\n",
    "        curr_month, curr_times = sorted_month_dict[i+1]\n",
    "        # a[i+1] - a[i] / a[i]\n",
    "        rate = (int(curr_times)-int(last_times)) / int(last_times)\n",
    "        print(\"current month\", curr_month, \" current times\", curr_times)\n",
    "        print(\"last month\", last_month, \" last times\", last_times)\n",
    "        print(\"rate: \", rate*100, \"%\")\n",
    "        print(\"================\")"
   ]
  },
  {
   "cell_type": "markdown",
   "metadata": {},
   "source": [
    "### Now, please fill out the all numeric answers to Question 1.1-Question 1.8 in the following code cells. DO NOT UNCOMMENT."
   ]
  },
  {
   "cell_type": "code",
   "execution_count": null,
   "metadata": {},
   "outputs": [],
   "source": [
    "#export\n",
    "# Your answer to ***Question 1.1***:"
   ]
  },
  {
   "cell_type": "code",
   "execution_count": null,
   "metadata": {},
   "outputs": [],
   "source": [
    "#export\n",
    "# Your answer to ***Question 1.2***:"
   ]
  },
  {
   "cell_type": "code",
   "execution_count": null,
   "metadata": {},
   "outputs": [],
   "source": [
    "#export\n",
    "# Your answer to ***Question 1.3***:"
   ]
  },
  {
   "cell_type": "code",
   "execution_count": null,
   "metadata": {},
   "outputs": [],
   "source": [
    "#export\n",
    "# Your answer to ***Question 1.4***:"
   ]
  },
  {
   "cell_type": "code",
   "execution_count": null,
   "metadata": {},
   "outputs": [],
   "source": [
    "#export\n",
    "# Your answer to ***Question 1.5***:"
   ]
  },
  {
   "cell_type": "code",
   "execution_count": null,
   "metadata": {},
   "outputs": [],
   "source": [
    "#export\n",
    "# Your answer to ***Question 1.6***:"
   ]
  },
  {
   "cell_type": "code",
   "execution_count": null,
   "metadata": {},
   "outputs": [],
   "source": [
    "#export\n",
    "# Your answer to ***Question 1.7***:"
   ]
  },
  {
   "cell_type": "code",
   "execution_count": null,
   "metadata": {},
   "outputs": [],
   "source": [
    "#export\n",
    "# Your answer to ***Question 1.8***:"
   ]
  },
  {
   "cell_type": "markdown",
   "metadata": {},
   "source": [
    "# Section 2: Simple Programming\n",
    "\n",
    "Consider $n$ buildings on a grid at positions $0$ to $n+1$. Each building has a height $h_{i}$. You can arrange the buildings in any order but you must leave the slot at position 0 open. Imagine a laser is shot just below the roof and to left of a building. The laser travels any number of grid points until it encounters a building of the same height or taller or reaches the end of the grid, position $0$. \n",
    "\n",
    "For example, consider 4 buildings of height $3, 3, 4,$ and $1$ arranged at grid points $1, 2, 3$, and $4$, respectively. The laser travels $1, 1, 3$, and $1$ grid points for each of the buildings, respectively. Let's call the sum of the lasers' distances $V$. For this example, $V=6$. For all questions, give your answer to $10$ places after the decimal point."
   ]
  },
  {
   "cell_type": "markdown",
   "metadata": {},
   "source": [
    "### Please answer the following 5 questions. For each question,\n",
    "1. Please write down the script used to compute your response in the ***Code*** Cell; Conclude your scripts with a final ***print()*** function to print out final numeric answers. **Important: Make sure your scripts are executable !!!**\n",
    "2. Please fill out the final numeric answers in the cells at the end of the section."
   ]
  },
  {
   "cell_type": "markdown",
   "metadata": {},
   "source": [
    "#### Question 2.1: Consider 4 buildings of heights 1, 1, 3, and 4. For all possible configurations, what is the mean of sum of distances V? (10 pts)"
   ]
  },
  {
   "cell_type": "code",
   "execution_count": 37,
   "metadata": {},
   "outputs": [
    {
     "name": "stdout",
     "output_type": "stream",
     "text": [
      "4.166666666666667\n"
     ]
    }
   ],
   "source": [
    "#export\n",
    "# Code script for Q 2.1\n",
    "# Write your code script below \n",
    "\n",
    "# 生成排列组合\n",
    "\n",
    " \n",
    "array = [1,1,3,4]\n",
    "pailie = list(itertools.permutations(array))#要list一下，不然它只是一个对象\n",
    "V = 0\n",
    "for dist in pailie:\n",
    "    dist = list(dist)\n",
    "    dist.insert(0, 0) # = [0,1,1,3,4]\n",
    "    size = len(dist)\n",
    "\n",
    "    for r in range(size-1, 0, -1):\n",
    "        for l in range(r-1, 0, -1):\n",
    "            if dist[r] <= dist[l]:\n",
    "                break\n",
    "        V += (r-l)\n",
    "            \n",
    "print(V / (len(pailie)))"
   ]
  },
  {
   "cell_type": "markdown",
   "metadata": {},
   "source": [
    "#### Question 2.2: Consider 10 buildings of heights 1, 2, 3, ..., 10. For all possible configurations, what is the mean of sum of distances V?  (10 pts)"
   ]
  },
  {
   "cell_type": "code",
   "execution_count": null,
   "metadata": {},
   "outputs": [],
   "source": [
    "#export\n",
    "# Code script for Q 2.2\n",
    "# Write your code script below\n",
    "\n",
    "array = []\n",
    "\n",
    "for i in range(1, 11):\n",
    "    array.append(i)\n",
    "\n",
    "pailie = list(itertools.permutations(array))#要list一下，不然它只是一个对象\n",
    "V = 0\n",
    "for dist in pailie:\n",
    "    dist = list(dist)\n",
    "    dist.insert(0, 0) # = [0,1,1,3,4]\n",
    "    size = len(dist)\n",
    "\n",
    "    for r in range(size-1, 0, -1):\n",
    "        for l in range(r-1, 0, -1):\n",
    "            if dist[r] <= dist[l]:\n",
    "                break\n",
    "        V += (r-l)\n",
    "            \n",
    "print(V / (len(pailie)))"
   ]
  },
  {
   "cell_type": "markdown",
   "metadata": {},
   "source": [
    "#### Question 2.3: Consider 20 buildings of heights 1, 2, 3, ..., 20. For all possible configurations, what is the mean of sum of distances $V$? The calculation of the standard deviation is not needed.  (10 pts)"
   ]
  },
  {
   "cell_type": "code",
   "execution_count": 32,
   "metadata": {},
   "outputs": [
    {
     "name": "stdout",
     "output_type": "stream",
     "text": [
      "10.5\n"
     ]
    }
   ],
   "source": [
    "#export\n",
    "# Code script for Q 2.3\n",
    "# Write your code script below \n",
    "array = []\n",
    "\n",
    "for i in range(1, 21):\n",
    "    array.append(i)\n",
    "\n",
    "pailie = list(itertools.permutations(array))#要list一下，不然它只是一个对象\n",
    "V = 0\n",
    "for dist in pailie:\n",
    "    dist = list(dist)\n",
    "    dist.insert(0, 0) # = [0,1,1,3,4]\n",
    "    size = len(dist)\n",
    "\n",
    "    for r in range(size-1, 0, -1):\n",
    "        for l in range(r-1, 0, -1):\n",
    "            if dist[r] <= dist[l]:\n",
    "                break\n",
    "        V += (r-l)\n",
    "            \n",
    "print(V / (len(pailie)))"
   ]
  },
  {
   "cell_type": "markdown",
   "metadata": {},
   "source": [
    "#### Question 2.4: Consider 4 buildings of heights 1, 1, 3, and 4. For all possible configurations, what is the standard deviation of the sum of distances $V$?  (10 pts)"
   ]
  },
  {
   "cell_type": "code",
   "execution_count": null,
   "metadata": {},
   "outputs": [],
   "source": [
    "#export\n",
    "# Code script for Q 2.4\n",
    "# Write your code script below  \n"
   ]
  },
  {
   "cell_type": "markdown",
   "metadata": {},
   "source": [
    "#### Question 2.5: Consider 10 buildings of heights 1, 2, 3, ..., 10. For all possible configurations, what is the standard deviation of the sum of distances $V$?  (10 pts)"
   ]
  },
  {
   "cell_type": "code",
   "execution_count": null,
   "metadata": {},
   "outputs": [],
   "source": [
    "#export\n",
    "# Code script for Q 2.5\n",
    "# Write your code script below  \n"
   ]
  },
  {
   "cell_type": "markdown",
   "metadata": {},
   "source": [
    "### Now, please fill out the all numeric answers to Question 2.1-Question 2.5 in the following code cells. DO NOT UNCOMMENT."
   ]
  },
  {
   "cell_type": "code",
   "execution_count": null,
   "metadata": {},
   "outputs": [],
   "source": [
    "#export\n",
    "# Your answer to ***Question 2.1***:"
   ]
  },
  {
   "cell_type": "code",
   "execution_count": null,
   "metadata": {},
   "outputs": [],
   "source": [
    "#export\n",
    "# Your answer to ***Question 2.2***:"
   ]
  },
  {
   "cell_type": "code",
   "execution_count": null,
   "metadata": {},
   "outputs": [],
   "source": [
    "#export\n",
    "# Your answer to ***Question 2.3***:"
   ]
  },
  {
   "cell_type": "code",
   "execution_count": null,
   "metadata": {},
   "outputs": [],
   "source": [
    "#export\n",
    "# Your answer to ***Question 2.4***:"
   ]
  },
  {
   "cell_type": "code",
   "execution_count": null,
   "metadata": {},
   "outputs": [],
   "source": [
    "#export\n",
    "# Your answer to ***Question 2.5***:"
   ]
  },
  {
   "cell_type": "markdown",
   "metadata": {},
   "source": [
    "## Congratulations for finishing the first part of the final exam !\n",
    "### Remeber to save your Jupyter Notebook.\n",
    "### Now it's a good time to submit for grading.\n",
    "\n",
    "Please uncomment and run the cell below. Your code will be generated in the folder named `first_part`, please upload `submission.py` file AND the Jupyter Notebook (`AcF_351b_Python_Stream_Final_Exam_Part_I.ipynb`) together."
   ]
  },
  {
   "cell_type": "code",
   "execution_count": 19,
   "metadata": {},
   "outputs": [
    {
     "name": "stdout",
     "output_type": "stream",
     "text": [
      "Converted AcF_351b_Python_Stream_Final_Exam_Part_I.ipynb to first_part/submission_part_I.py\n"
     ]
    }
   ],
   "source": [
    "%run notebook2script1 first_part"
   ]
  },
  {
   "cell_type": "code",
   "execution_count": null,
   "metadata": {},
   "outputs": [],
   "source": []
  }
 ],
 "metadata": {
  "kernelspec": {
   "display_name": "Python 3",
   "language": "python",
   "name": "python3"
  },
  "language_info": {
   "codemirror_mode": {
    "name": "ipython",
    "version": 3
   },
   "file_extension": ".py",
   "mimetype": "text/x-python",
   "name": "python",
   "nbconvert_exporter": "python",
   "pygments_lexer": "ipython3",
   "version": "3.7.4"
  }
 },
 "nbformat": 4,
 "nbformat_minor": 4
}
